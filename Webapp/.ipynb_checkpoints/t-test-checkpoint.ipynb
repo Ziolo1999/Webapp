{
 "cells": [
  {
   "cell_type": "code",
   "execution_count": 2,
   "metadata": {},
   "outputs": [
    {
     "ename": "ModuleNotFoundError",
     "evalue": "No module named 'plotly'",
     "output_type": "error",
     "traceback": [
      "\u001b[1;31m---------------------------------------------------------------------------\u001b[0m",
      "\u001b[1;31mModuleNotFoundError\u001b[0m                       Traceback (most recent call last)",
      "\u001b[1;32m<ipython-input-2-781d2868f37e>\u001b[0m in \u001b[0;36m<module>\u001b[1;34m\u001b[0m\n\u001b[0;32m      3\u001b[0m \u001b[1;32mimport\u001b[0m \u001b[0mmatplotlib\u001b[0m\u001b[1;33m.\u001b[0m\u001b[0mpyplot\u001b[0m \u001b[1;32mas\u001b[0m \u001b[0mplt\u001b[0m\u001b[1;33m\u001b[0m\u001b[1;33m\u001b[0m\u001b[0m\n\u001b[0;32m      4\u001b[0m \u001b[1;32mimport\u001b[0m \u001b[0mscipy\u001b[0m\u001b[1;33m.\u001b[0m\u001b[0mstats\u001b[0m\u001b[1;33m\u001b[0m\u001b[1;33m\u001b[0m\u001b[0m\n\u001b[1;32m----> 5\u001b[1;33m \u001b[1;32mimport\u001b[0m \u001b[0mplotly\u001b[0m\u001b[1;33m.\u001b[0m\u001b[0mfigure_factory\u001b[0m \u001b[1;32mas\u001b[0m \u001b[0mff\u001b[0m\u001b[1;33m\u001b[0m\u001b[1;33m\u001b[0m\u001b[0m\n\u001b[0m\u001b[0;32m      6\u001b[0m \u001b[1;33m\u001b[0m\u001b[0m\n",
      "\u001b[1;31mModuleNotFoundError\u001b[0m: No module named 'plotly'"
     ]
    }
   ],
   "source": [
    "import pandas as pd\n",
    "import numpy as np\n",
    "import matplotlib.pyplot as plt\n",
    "import scipy.stats\n",
    "import plotly.figure_factory as ff\n",
    "\n"
   ]
  },
  {
   "cell_type": "code",
   "execution_count": 3,
   "metadata": {},
   "outputs": [
    {
     "data": {
      "image/png": "[encoded data removed]",
      "text/plain": [
       "<Figure size 432x288 with 1 Axes>"
      ]
     },
     "metadata": {
      "needs_background": "light"
     },
     "output_type": "display_data"
    }
   ],
   "source": [
    "def plot_t_student(df=1000, lb=None, ub=None, type=\"two-sided\", stat_value=0):\n",
    "    x = np.linspace(scipy.stats.t.ppf(0.01, df), scipy.stats.t.ppf(0.99, df), 1000)\n",
    "    \n",
    "    plt.plot(x, scipy.stats.t.pdf(x, df), color = 'blue')\n",
    "\n",
    "\n",
    "    if type == \"two-sided\":\n",
    "        px_lower = np.arange(min(x), lb, 0.01)\n",
    "        plt.fill_between(px_lower, scipy.stats.t.pdf(px_lower, df), color='red')\n",
    "\n",
    "        px_upper = np.arange(ub, max(x), 0.01)\n",
    "        plt.fill_between(px_upper, scipy.stats.t.pdf(px_upper, df), color='red')\n",
    "    elif type == \"left-sided\":\n",
    "        px_lower = np.arange(min(x), lb, 0.01)\n",
    "        plt.fill_between(px_lower, scipy.stats.t.pdf(px_lower, df), color=\"red\")\n",
    "    elif type == \"right-sided\":\n",
    "        px_upper = np.arange(ub, max(x), 0.01)\n",
    "        plt.fill_between(px_upper, scipy.stats.t.pdf(px_upper, df), color=\"red\")\n",
    "\n",
    "    plt.axvline(x=stat_value, color=\"green\")\n",
    "\n",
    "\n",
    "plot_t_student(lb=-1.5, ub=1.5)"
   ]
  },
  {
   "cell_type": "markdown",
   "metadata": {},
   "source": [
    "# Porównanie z normą"
   ]
  },
  {
   "cell_type": "markdown",
   "metadata": {},
   "source": [
    "## Model 1\n"
   ]
  },
  {
   "cell_type": "code",
   "execution_count": 4,
   "metadata": {},
   "outputs": [
    {
     "name": "stdout",
     "output_type": "stream",
     "text": [
      "p-value is lower than 0.05. Null hypothesis has been rejected!\n"
     ]
    },
    {
     "data": {
      "image/png": "[encoded data removed]",
      "text/plain": [
       "<Figure size 432x288 with 1 Axes>"
      ]
     },
     "metadata": {
      "needs_background": "light"
     },
     "output_type": "display_data"
    }
   ],
   "source": [
    "def make_decision(p_value, alpha):\n",
    "    if p_value <= alpha:\n",
    "        decision = f\"p-value is lower than {alpha}. Null hypothesis has been rejected!\"\n",
    "    else:\n",
    "        decision = f\"p-value is higher than {alpha}. There is not enough evidence to rejest the null hypothesis!\"\n",
    "    return decision\n",
    "\n",
    "\n",
    "def one_sample_t_test(pop_mean, variance, tested_mean, N, alpha=0.05, type=\"two-sided\"):\n",
    "    \n",
    "    test_stat = (pop_mean - tested_mean) * N ** (1/2) / variance ** (1/2)\n",
    "    dof = N - 1\n",
    "    ub = 1.96\n",
    "    lb = -1.96\n",
    "\n",
    "\n",
    "    if type == \"two-sided\":\n",
    "        lb = scipy.stats.t.ppf(alpha/2, dof)\n",
    "        ub = -scipy.stats.t.ppf(alpha/2, dof)\n",
    "        p_value = 2 - 2 * scipy.stats.t.cdf(test_stat, dof)\n",
    "        \n",
    "    elif type == \"left-sided\":\n",
    "        lb = scipy.stats.t.ppf(alpha, dof)\n",
    "        p_value = scipy.stats.t.cdf(test_stat, dof)\n",
    "\n",
    "    elif type == \"right-sided\":\n",
    "        ub = - scipy.stats.t.ppf(alpha, dof)\n",
    "        p_value = 1 - scipy.stats.t.cdf(test_stat, dof)\n",
    "\n",
    "    decision = make_decision(p_value, alpha)\n",
    "\n",
    "    return {\"test_stat\":test_stat, \"p-value\":p_value, \"lb\":lb, \"ub\":ub, \"degrees_of_freedom\":dof, \"type\":type, \"decision\":decision}\n",
    "\n",
    "\n",
    "\n",
    "results = one_sample_t_test(250, 2500, 230, 25, type=\"right-sided\")\n",
    "plot_t_student(df=results[\"degrees_of_freedom\"], lb=results[\"lb\"], ub=results[\"ub\"], type=results[\"type\"], stat_value=results[\"test_stat\"])\n",
    "print(results[\"decision\"])\n"
   ]
  },
  {
   "cell_type": "code",
   "execution_count": null,
   "metadata": {},
   "outputs": [],
   "source": []
  }
 ],
 "metadata": {
  "hide_input": false,
  "interpreter": {
   "hash": "26135e3b2650c7d06f00fe41355c01e6fbe68201e22aee2094cb05163574c557"
  },
  "kernelspec": {
   "display_name": "Python 3",
   "language": "python",
   "name": "python3"
  },
  "language_info": {
   "codemirror_mode": {
    "name": "ipython",
    "version": 3
   },
   "file_extension": ".py",
   "mimetype": "text/x-python",
   "name": "python",
   "nbconvert_exporter": "python",
   "pygments_lexer": "ipython3",
   "version": "3.8.5"
  }
 },
 "nbformat": 4,
 "nbformat_minor": 2
}
