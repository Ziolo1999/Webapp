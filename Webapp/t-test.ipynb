{
 "cells": [
  {
   "cell_type": "code",
   "execution_count": 1,
   "metadata": {},
   "outputs": [],
   "source": [
    "import pandas as pd\n",
    "import numpy as np\n",
    "import matplotlib.pyplot as plt\n",
    "import scipy.stats\n",
    "import plotly.figure_factory as ff\n",
    "\n"
   ]
  },
  {
   "cell_type": "code",
   "execution_count": 18,
   "metadata": {},
   "outputs": [
    {
     "data": {
      "image/png": "[encoded data removed]",
      "text/plain": [
       "<Figure size 432x288 with 1 Axes>"
      ]
     },
     "metadata": {
      "needs_background": "light"
     },
     "output_type": "display_data"
    }
   ],
   "source": [
    "def plot_t_student(df=1000, lb=None, ub=None, type=\"two-sided\", stat_value=0):\n",
    "    x = np.linspace(scipy.stats.t.ppf(0.01, df), scipy.stats.t.ppf(0.99, df), 1000)\n",
    "    \n",
    "    plt.plot(x, scipy.stats.t.pdf(x, df), color = 'blue')\n",
    "\n",
    "\n",
    "    if type == \"two-sided\":\n",
    "        px_lower = np.arange(min(x), lb, 0.01)\n",
    "        plt.fill_between(px_lower, scipy.stats.t.pdf(px_lower, df), color='red')\n",
    "\n",
    "        px_upper = np.arange(ub, max(x), 0.01)\n",
    "        plt.fill_between(px_upper, scipy.stats.t.pdf(px_upper, df), color='red')\n",
    "    elif type == \"left-sided\":\n",
    "        px_lower = np.arange(min(x), lb, 0.01)\n",
    "        plt.fill_between(px_lower, scipy.stats.t.pdf(px_lower, df), color=\"red\")\n",
    "    elif type == \"right-sided\":\n",
    "        px_upper = np.arange(ub, max(x), 0.01)\n",
    "        plt.fill_between(px_upper, scipy.stats.t.pdf(px_upper, df), color=\"red\")\n",
    "\n",
    "    plt.axvline(x=stat_value, color=\"green\")\n",
    "\n",
    "\n",
    "plot_t_student(lb=-1.5, ub=1.5)"
   ]
  },
  {
   "cell_type": "markdown",
   "metadata": {},
   "source": [
    "# Porównanie z normą"
   ]
  },
  {
   "cell_type": "markdown",
   "metadata": {},
   "source": [
    "## Model 1\n"
   ]
  },
  {
   "cell_type": "code",
   "execution_count": 21,
   "metadata": {},
   "outputs": [
    {
     "name": "stdout",
     "output_type": "stream",
     "text": [
      "p-value is lower than 0.05. Null hypothesis has been rejected!\n"
     ]
    },
    {
     "data": {
      "image/png": "[encoded data removed]",
      "text/plain": [
       "<Figure size 432x288 with 1 Axes>"
      ]
     },
     "metadata": {
      "needs_background": "light"
     },
     "output_type": "display_data"
    }
   ],
   "source": [
    "def make_decision(p_value, alpha):\n",
    "    if p_value <= alpha:\n",
    "        decision = f\"p-value is lower than {alpha}. Null hypothesis has been rejected!\"\n",
    "    else:\n",
    "        decision = f\"p-value is higher than {alpha}. There is not enough evidence to rejest the null hypothesis!\"\n",
    "    return decision\n",
    "\n",
    "\n",
    "def one_sample_t_test(pop_mean, variance, tested_mean, N, alpha=0.05, type=\"two-sided\"):\n",
    "    \n",
    "    test_stat = (pop_mean - tested_mean) * N ** (1/2) / variance ** (1/2)\n",
    "    dof = N - 1\n",
    "    ub = 1.96\n",
    "    lb = -1.96\n",
    "\n",
    "\n",
    "    if type == \"two-sided\":\n",
    "        lb = scipy.stats.t.ppf(alpha/2, dof)\n",
    "        ub = -scipy.stats.t.ppf(alpha/2, dof)\n",
    "        p_value = 2 - 2 * scipy.stats.t.cdf(test_stat, dof)\n",
    "        \n",
    "    elif type == \"left-sided\":\n",
    "        lb = scipy.stats.t.ppf(alpha, dof)\n",
    "        p_value = scipy.stats.t.cdf(test_stat, dof)\n",
    "\n",
    "    elif type == \"right-sided\":\n",
    "        ub = - scipy.stats.t.ppf(alpha, dof)\n",
    "        p_value = 1 - scipy.stats.t.cdf(test_stat, dof)\n",
    "\n",
    "    decision = make_decision(p_value, alpha)\n",
    "\n",
    "    return {\"test_stat\":test_stat, \"p-value\":p_value, \"lb\":lb, \"ub\":ub, \"degrees_of_freedom\":dof, \"type\":type, \"decision\":decision}\n",
    "\n",
    "\n",
    "\n",
    "results = one_sample_t_test(250, 2500, 230, 25, type=\"right-sided\")\n",
    "plot_t_student(df=results[\"degrees_of_freedom\"], lb=results[\"lb\"], ub=results[\"ub\"], type=results[\"type\"], stat_value=results[\"test_stat\"])\n",
    "print(results[\"decision\"])\n"
   ]
  },
  {
   "cell_type": "code",
   "execution_count": null,
   "metadata": {},
   "outputs": [],
   "source": []
  }
 ],
 "metadata": {
  "interpreter": {
   "hash": "26135e3b2650c7d06f00fe41355c01e6fbe68201e22aee2094cb05163574c557"
  },
  "kernelspec": {
   "display_name": "Python 3.9.7 64-bit ('base': conda)",
   "language": "python",
   "name": "python3"
  },
  "language_info": {
   "codemirror_mode": {
    "name": "ipython",
    "version": 3
   },
   "file_extension": ".py",
   "mimetype": "text/x-python",
   "name": "python",
   "nbconvert_exporter": "python",
   "pygments_lexer": "ipython3",
   "version": "3.10.1"
  },
  "orig_nbformat": 4
 },
 "nbformat": 4,
 "nbformat_minor": 2
}
