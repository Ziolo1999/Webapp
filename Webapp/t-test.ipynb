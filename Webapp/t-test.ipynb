{
 "cells": [
  {
   "cell_type": "code",
   "execution_count": 6,
   "metadata": {},
   "outputs": [],
   "source": [
    "import pandas as pd\n",
    "import numpy as np\n",
    "import matplotlib.pyplot as plt\n",
    "import scipy.stats\n",
    "\n"
   ]
  },
  {
   "cell_type": "markdown",
   "metadata": {},
   "source": [
    "# Porównanie z normą"
   ]
  },
  {
   "cell_type": "markdown",
   "metadata": {},
   "source": [
    "## Model 1\n"
   ]
  },
  {
   "cell_type": "code",
   "execution_count": 17,
   "metadata": {},
   "outputs": [
    {
     "data": {
      "text/plain": [
       "[2.5, 0.012419330651552318]"
      ]
     },
     "execution_count": 17,
     "metadata": {},
     "output_type": "execute_result"
    }
   ],
   "source": [
    "def model_1(mean, variance, tested_mean, N, alpha, type=\"two-sided\"):\n",
    "    test_stat = (mean - tested_mean) * N ** (1/2) / variance ** (1/2)\n",
    "\n",
    "    if type == \"two-sided\":\n",
    "        lb = scipy.stats.norm.ppf(0.05/2)\n",
    "        ub = -scipy.stats.norm.ppf(0.05/2)\n",
    "        p_value = 2 - 2 * scipy.stats.norm.cdf(test_stat)\n",
    "    elif type == \"left-sided\":\n",
    "        lb = scipy.stats.norm.ppf(0.05)\n",
    "        p_value = scipy.stats.norm.cdf(test_stat)\n",
    "    elif type == \"right-sided\":\n",
    "        lb = - scipy.stats.norm.ppf(0.05)\n",
    "        p_value = 1 - scipy.stats.norm.cdf(test_stat)\n",
    "\n",
    "    return [test_stat, p_value] \n",
    "\n",
    "\n",
    "\n",
    "model_1(1025, 2500, 1000, 25, 0.05)\n"
   ]
  },
  {
   "cell_type": "code",
   "execution_count": 61,
   "metadata": {},
   "outputs": [
    {
     "data": {
      "image/png": "[encoded data removed]",
      "text/plain": [
       "<Figure size 432x288 with 1 Axes>"
      ]
     },
     "metadata": {
      "needs_background": "light"
     },
     "output_type": "display_data"
    }
   ],
   "source": [
    "def one_sample_t_test(pop_mean, variance, tested_mean, N, alpha=0.05, type=\"two-sided\"):\n",
    "    \n",
    "    test_stat = (pop_mean - tested_mean) * N ** (1/2) / variance ** (1/2)\n",
    "    dof = N - 1\n",
    "    x = np.linspace(scipy.stats.t.ppf(0.01, dof), scipy.stats.t.ppf(0.99, dof), 1000)\n",
    "    fig = plt.figure()\n",
    "    plt.axvline(x=test_stat, color=\"r\")\n",
    "\n",
    "    if type == \"two-sided\":\n",
    "        lb = scipy.stats.t.ppf(alpha/2, dof)\n",
    "        ub = -scipy.stats.t.ppf(alpha/2, dof)\n",
    "        p_value = 2 - 2 * scipy.stats.t.cdf(test_stat, dof)\n",
    "\n",
    "\n",
    "        plt.plot(x, scipy.stats.t.pdf(x, dof), color = 'green')\n",
    "\n",
    "        px3 = np.arange(min(x), lb, 0.01)\n",
    "        plt.fill_between(px3, scipy.stats.t.pdf(px3, dof), color = 'blue')\n",
    "\n",
    "        px4 = np.arange(ub, max(x), 0.01)\n",
    "        plt.fill_between(px4, scipy.stats.t.pdf(px4, dof), color = 'blue')\n",
    "\n",
    "    elif type == \"left-sided\":\n",
    "        lb = scipy.stats.t.ppf(alpha, dof)\n",
    "        p_value = scipy.stats.t.cdf(test_stat, dof)\n",
    "\n",
    "\n",
    "        plt.plot(x, scipy.stats.t.pdf(x, dof), color = 'green')\n",
    "        px4 = np.arange(min(x), lb, 0.01)\n",
    "        plt.fill_between(px4, scipy.stats.t.pdf(px4, dof), color = 'green')\n",
    "\n",
    "    elif type == \"right-sided\":\n",
    "        ub = - scipy.stats.t.ppf(alpha, dof)\n",
    "        p_value = 1 - scipy.stats.t.cdf(test_stat, dof)\n",
    "        \n",
    "        \n",
    "        plt.plot(x, scipy.stats.t.pdf(x, dof), color = 'green')\n",
    "        px3 = np.arange(ub, max(x), 0.01)\n",
    "        plt.fill_between(px3, scipy.stats.t.pdf(px3, dof), color = 'green')\n",
    "\n",
    "\n",
    "    return [test_stat, p_value, fig] \n",
    "\n",
    "\n",
    "\n",
    "one_sample_t_test(250, 2500, 230, 25, type=\"right-sided\")\n",
    "plt.show()"
   ]
  },
  {
   "cell_type": "code",
   "execution_count": 53,
   "metadata": {},
   "outputs": [
    {
     "ename": "NameError",
     "evalue": "name 'lb' is not defined",
     "output_type": "error",
     "traceback": [
      "\u001b[1;31m---------------------------------------------------------------------------\u001b[0m",
      "\u001b[1;31mNameError\u001b[0m                                 Traceback (most recent call last)",
      "\u001b[1;32m~\\AppData\\Local\\Temp/ipykernel_21464/190145858.py\u001b[0m in \u001b[0;36m<module>\u001b[1;34m\u001b[0m\n\u001b[1;32m----> 1\u001b[1;33m \u001b[0mpx3\u001b[0m \u001b[1;33m=\u001b[0m \u001b[0mnp\u001b[0m\u001b[1;33m.\u001b[0m\u001b[0marange\u001b[0m\u001b[1;33m(\u001b[0m\u001b[0mlb\u001b[0m\u001b[1;33m,\u001b[0m \u001b[0mmin\u001b[0m\u001b[1;33m(\u001b[0m\u001b[0mx\u001b[0m\u001b[1;33m)\u001b[0m\u001b[1;33m,\u001b[0m \u001b[1;36m0.01\u001b[0m\u001b[1;33m)\u001b[0m\u001b[1;33m\u001b[0m\u001b[1;33m\u001b[0m\u001b[0m\n\u001b[0m",
      "\u001b[1;31mNameError\u001b[0m: name 'lb' is not defined"
     ]
    }
   ],
   "source": [
    "px3 = np.arange(lb, min(x), 0.01)"
   ]
  },
  {
   "cell_type": "code",
   "execution_count": 12,
   "metadata": {},
   "outputs": [
    {
     "data": {
      "text/plain": [
       "0.006209665325776159"
      ]
     },
     "execution_count": 12,
     "metadata": {},
     "output_type": "execute_result"
    }
   ],
   "source": [
    "1-scipy.stats.norm.cdf(2.5)"
   ]
  },
  {
   "cell_type": "code",
   "execution_count": null,
   "metadata": {},
   "outputs": [],
   "source": []
  }
 ],
 "metadata": {
  "interpreter": {
   "hash": "26135e3b2650c7d06f00fe41355c01e6fbe68201e22aee2094cb05163574c557"
  },
  "kernelspec": {
   "display_name": "Python 3.9.7 64-bit ('base': conda)",
   "language": "python",
   "name": "python3"
  },
  "language_info": {
   "codemirror_mode": {
    "name": "ipython",
    "version": 3
   },
   "file_extension": ".py",
   "mimetype": "text/x-python",
   "name": "python",
   "nbconvert_exporter": "python",
   "pygments_lexer": "ipython3",
   "version": "3.9.7"
  },
  "orig_nbformat": 4
 },
 "nbformat": 4,
 "nbformat_minor": 2
}
