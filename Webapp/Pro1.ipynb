{
 "cells": [
  {
   "cell_type": "code",
   "execution_count": null,
   "metadata": {},
   "outputs": [
    {
     "name": "stderr",
     "output_type": "stream",
     "text": [
      "Bottle v0.12.19 server starting up (using WSGIRefServer())...\n",
      "Listening on http://localhost:8012/\n",
      "Hit Ctrl-C to quit.\n",
      "\n",
      "127.0.0.1 - - [09/Jan/2022 20:03:47] \"GET /one_sample_ttest HTTP/1.1\" 200 4276\n",
      "127.0.0.1 - - [09/Jan/2022 20:14:14] \"GET /one_sample_ttest HTTP/1.1\" 200 6079\n",
      "127.0.0.1 - - [09/Jan/2022 20:14:22] \"GET /one_sample_ttest HTTP/1.1\" 200 6079\n",
      "127.0.0.1 - - [09/Jan/2022 20:14:24] \"GET /inedx HTTP/1.1\" 404 730\n",
      "127.0.0.1 - - [09/Jan/2022 20:25:12] \"GET /chi_square_goodness_of_fit HTTP/1.1\" 404 772\n",
      "127.0.0.1 - - [09/Jan/2022 20:25:17] \"GET /one_sample_ttest HTTP/1.1\" 200 6079\n",
      "127.0.0.1 - - [09/Jan/2022 20:25:23] \"GET /inedx HTTP/1.1\" 404 730\n",
      "127.0.0.1 - - [09/Jan/2022 20:25:35] \"GET /one_sample_ttest HTTP/1.1\" 200 6079\n",
      "127.0.0.1 - - [09/Jan/2022 20:25:36] \"GET /one_sample_ttest HTTP/1.1\" 200 6079\n",
      "127.0.0.1 - - [09/Jan/2022 20:25:38] \"GET /login HTTP/1.1\" 200 3029\n",
      "127.0.0.1 - - [09/Jan/2022 20:25:50] \"GET /register HTTP/1.1\" 200 4928\n",
      "127.0.0.1 - - [09/Jan/2022 20:25:57] \"GET /login HTTP/1.1\" 200 3029\n"
     ]
    }
   ],
   "source": [
    "from bottle import Bottle, route, run, template, get, post, debug, static_file, request, redirect, response\n",
    "import time\n",
    "import random\n",
    "import string\n",
    "import logging\n",
    "import logging.handlers\n",
    "\n",
    "@route('/static/<path:path>', name='static')\n",
    "def static(path):\n",
    "    return static_file(path, root='./static')\n",
    "\n",
    "@route('/login/')\n",
    "@route('/login')\n",
    "def login():\n",
    "    return template(\"login\")\n",
    "\n",
    "@route('/register')\n",
    "@route('/register')\n",
    "def regiser():\n",
    "    return template(\"register\")\n",
    "\n",
    "@route('/index')\n",
    "@route('/index/')\n",
    "def index():\n",
    "    return template(\"index\")\n",
    "\n",
    "@route('/one_sample_ttest')\n",
    "@route('/one_sample_ttest/')\n",
    "def one_sample_ttest():\n",
    "    return template(\"one_sample_ttest\")\n",
    "\n",
    "# Debug = True - changes in template are visible immidietly\n",
    "run(host='localhost', port=8012, debug=True)"
   ]
  },
  {
   "cell_type": "code",
   "execution_count": null,
   "metadata": {},
   "outputs": [],
   "source": []
  },
  {
   "cell_type": "code",
   "execution_count": null,
   "metadata": {},
   "outputs": [],
   "source": []
  }
 ],
 "metadata": {
  "hide_input": false,
  "kernelspec": {
   "display_name": "Python 3 (ipykernel)",
   "language": "python",
   "name": "python3"
  },
  "language_info": {
   "codemirror_mode": {
    "name": "ipython",
    "version": 3
   },
   "file_extension": ".py",
   "mimetype": "text/x-python",
   "name": "python",
   "nbconvert_exporter": "python",
   "pygments_lexer": "ipython3",
   "version": "3.9.7"
  }
 },
 "nbformat": 4,
 "nbformat_minor": 4
}
